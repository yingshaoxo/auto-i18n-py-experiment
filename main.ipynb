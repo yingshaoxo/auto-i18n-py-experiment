{
 "cells": [
  {
   "cell_type": "code",
   "execution_count": 2,
   "metadata": {},
   "outputs": [
    {
     "data": {
      "text/plain": [
       "2"
      ]
     },
     "execution_count": 2,
     "metadata": {},
     "output_type": "execute_result"
    }
   ],
   "source": [
    "1+1"
   ]
  },
  {
   "cell_type": "code",
   "execution_count": 35,
   "metadata": {},
   "outputs": [],
   "source": [
    "%load_ext autoreload\n",
    "%autoreload 2"
   ]
  },
  {
   "cell_type": "code",
   "execution_count": 3,
   "metadata": {},
   "outputs": [],
   "source": [
    "from auto_everything.disk import Disk\n",
    "from auto_everything import IO\n",
    "from auto_everything.disk import Store\n",
    "from pprint import pprint\n",
    "\n",
    "disk = Disk()\n",
    "io_ = IO()\n",
    "store = Store(\"haitao_translate\")"
   ]
  },
  {
   "cell_type": "code",
   "execution_count": 76,
   "metadata": {},
   "outputs": [],
   "source": [
    "for key,value in store.get_items():\n",
    "    if (\"请输入password\" in key):\n",
    "        print(key, value)"
   ]
  },
  {
   "cell_type": "code",
   "execution_count": 5,
   "metadata": {},
   "outputs": [],
   "source": [
    "rootFolder = \"/Users/yingshaoxo/CS/auto-i18n-py-experiment/test_files\""
   ]
  },
  {
   "cell_type": "code",
   "execution_count": 8,
   "metadata": {},
   "outputs": [],
   "source": [
    "\n",
    "files = disk.get_files(rootFolder, type_limiter=[\".ts\", \".js\", \".vue\"])"
   ]
  },
  {
   "cell_type": "code",
   "execution_count": 9,
   "metadata": {},
   "outputs": [
    {
     "data": {
      "text/plain": [
       "'/Users/yingshaoxo/CS/auto-i18n-py-experiment/test_files/App.vue'"
      ]
     },
     "execution_count": 9,
     "metadata": {},
     "output_type": "execute_result"
    }
   ],
   "source": [
    "file = files[0]\n",
    "file"
   ]
  },
  {
   "cell_type": "code",
   "execution_count": 21,
   "metadata": {},
   "outputs": [],
   "source": [
    "text = \"\"\"\n",
    "<template>\n",
    "    <div>hi</div>\n",
    "    <div class=\"hi\">hello</div>\n",
    "    <div>{{hello}}</div>\n",
    "    <div\n",
    "        v-model=\"\"\n",
    "        ddd=\"old driver\"\n",
    "        :aaa=\"'hahaha'\"\n",
    "    >ok</div>\n",
    "</template>\n",
    "\n",
    "<script>\n",
    "const hi = '牛牛牛'\n",
    "const word = \"然後點擊'簡體轉繁體'\"\n",
    "</script>\n",
    "\n",
    "<style>\n",
    "</style>\n",
    "\"\"\""
   ]
  },
  {
   "cell_type": "code",
   "execution_count": null,
   "metadata": {},
   "outputs": [],
   "source": []
  },
  {
   "cell_type": "code",
   "execution_count": 22,
   "metadata": {},
   "outputs": [
    {
     "name": "stdout",
     "output_type": "stream",
     "text": [
      "<template>\n",
      "    <div>hi</div>\n",
      "    <div class=\"hi\">hello</div>\n",
      "    <div>{{hello}}</div>\n",
      "    <div\n",
      "        v-model=\"\"\n",
      "        ddd=\"old driver\"\n",
      "        :aaa=\"'hahaha'\"\n",
      "    >ok</div>\n",
      "</template>\n",
      "[('div', '', '', 'hi'),\n",
      " ('div', ' class=\"hi\"', ' class=\"hi\"', 'hello'),\n",
      " ('div', '', '', '{{hello}}'),\n",
      " ('div',\n",
      "  '\\n'\n",
      "  '        v-model=\"\"\\n'\n",
      "  '        ddd=\"old driver\"\\n'\n",
      "  '        :aaa=\"\\'hahaha\\'\"\\n'\n",
      "  '    ',\n",
      "  ' :aaa=\"\\'hahaha\\'\"\\n    ',\n",
      "  'ok')]\n"
     ]
    }
   ],
   "source": [
    "import re\n",
    "\n",
    "def get_vue_template(string: str):\n",
    "    template_match = re.search(r\"<template>(.|\\s)*?<\\/template>\", string, re.MULTILINE)\n",
    "    if (template_match is not None):\n",
    "        return template_match.group()\n",
    "    return \"\"\n",
    "\n",
    "def parse_vue_template_elements(string: str):\n",
    "    string = string.replace(\"<template>\", \"\")\n",
    "    string = string.replace(\"</template>\", \"\")\n",
    "    #string = string.strip()\n",
    "    # html_elements_match = re.search(r\"<\\s*(.|\\s)*?>*?<\\s*/\\s*(.+)>\", string, re.MULTILINE)\n",
    "    html_elements_match = re.findall(r\"<(?P<tag>.+)(?P<props>(?:\\s+.+=.+\\s*)*)>(?P<content>.*?)</(?P=tag)>\", string, re.MULTILINE)\n",
    "    return html_elements_match\n",
    "\n",
    "def get_vue_script(string: str):\n",
    "    template_match = re.search(r\"<script(.|\\s)*?<\\/script>\", string, re.MULTILINE)\n",
    "    if (template_match is not None):\n",
    "        return template_match.group()\n",
    "    return \"\"\n",
    "\n",
    "def get_vue_style(string: str):\n",
    "    template_match = re.search(r\"<style(.|\\s)*?<\\/style>\", string, re.MULTILINE)\n",
    "    if (template_match is not None):\n",
    "        return template_match.group()\n",
    "    return \"\"\n",
    "\n",
    "def parse_vue_content(string: str):\n",
    "    return {\n",
    "        'template': {\n",
    "            'raw_string': get_vue_template(string),\n",
    "            'html_elements_match': []\n",
    "        }, \n",
    "        'script': {\n",
    "            'raw_string': get_vue_script(string),\n",
    "            'html_elements_match': []\n",
    "        },\n",
    "        'script': {\n",
    "            'raw_string': get_vue_style(string),\n",
    "            'html_elements_match': []\n",
    "        }\n",
    "    }\n",
    "\n",
    "result = get_vue_template(text)\n",
    "print(result)\n",
    "result = parse_vue_template_elements(result)\n",
    "pprint(result)"
   ]
  },
  {
   "cell_type": "code",
   "execution_count": 8,
   "metadata": {},
   "outputs": [],
   "source": [
    "#<\\s*(.+)>*?<\\s*/\\s*(.+)>"
   ]
  },
  {
   "cell_type": "code",
   "execution_count": 37,
   "metadata": {},
   "outputs": [
    {
     "name": "stdout",
     "output_type": "stream",
     "text": [
      "h2h\n",
      "None\n"
     ]
    }
   ],
   "source": []
  },
  {
   "cell_type": "code",
   "execution_count": null,
   "metadata": {},
   "outputs": [],
   "source": []
  },
  {
   "cell_type": "code",
   "execution_count": 27,
   "metadata": {},
   "outputs": [
    {
     "name": "stdout",
     "output_type": "stream",
     "text": [
      "\n",
      "<template>\n",
      "    <div>${$t('你好')}</div>\n",
      "    <div>hello</div>\n",
      "    <div>{{hello}}</div>\n",
      "    <div\n",
      "        v-model=``\n",
      "        ddd=`${$t('老司机')}`\n",
      "        :aaa=``${$t('哈哈哈')}``\n",
      "    ></div>\n",
      "</template>\n",
      "\n",
      "<script>\n",
      "const hi = `${$t('牛牛牛')}`\n",
      "const word = `${$t('然後點擊')}`${$t('簡體轉繁體')}``\n",
      "</script>\n",
      "\n",
      "<style>\n",
      "</style>\n",
      "\n"
     ]
    }
   ],
   "source": [
    "def find_chinese_and_convert_it_to_i18n_variable(text):\n",
    "  def my_replace(match):\n",
    "     match = match.group()\n",
    "     return  \"${\"+ f\"$t('{match}')\" + \"}\"\n",
    "  text = text.replace('\"', '`')\n",
    "  #text = text.replace(\"'\", '`')\n",
    "  text = re.sub(r'[\\u4e00-\\u9fff]+', my_replace, text)\n",
    "  return text\n",
    "\n",
    "result = find_chinese_and_convert_it_to_i18n_variable(text)\n",
    "print(result)"
   ]
  },
  {
   "cell_type": "code",
   "execution_count": 24,
   "metadata": {},
   "outputs": [],
   "source": [
    "#$t('hello')"
   ]
  },
  {
   "cell_type": "markdown",
   "metadata": {},
   "source": [
    "### for `<script> code block`\n",
    "\n",
    "```\n",
    "1. replace \" to `\n",
    "\n",
    "2. then      return  \"${\"+ f\"$t('{match}')\" + \"}\"\n",
    "```"
   ]
  },
  {
   "cell_type": "markdown",
   "metadata": {},
   "source": []
  },
  {
   "cell_type": "markdown",
   "metadata": {},
   "source": [
    "### for `<template>` code block\n",
    "\n",
    "1. \n",
    "2. "
   ]
  }
 ],
 "metadata": {
  "kernelspec": {
   "display_name": "Python 3.9.9 ('auto-i18n-py-experiment-__CDCeNA-py3.9')",
   "language": "python",
   "name": "python3"
  },
  "language_info": {
   "codemirror_mode": {
    "name": "ipython",
    "version": 3
   },
   "file_extension": ".py",
   "mimetype": "text/x-python",
   "name": "python",
   "nbconvert_exporter": "python",
   "pygments_lexer": "ipython3",
   "version": "3.9.9"
  },
  "orig_nbformat": 4,
  "vscode": {
   "interpreter": {
    "hash": "3042e52d03b0c39f0c0b68948a76f624fb75fce5d7083854ccb213b875d27119"
   }
  }
 },
 "nbformat": 4,
 "nbformat_minor": 2
}
